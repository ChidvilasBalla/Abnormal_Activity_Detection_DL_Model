{
 "cells": [
  {
   "cell_type": "code",
   "execution_count": 1,
   "metadata": {},
   "outputs": [],
   "source": [
    "from selenium import webdriver\n",
    "from selenium.webdriver.chrome.options import Options\n",
    "from selenium.webdriver.support.ui import WebDriverWait\n"
   ]
  },
  {
   "cell_type": "code",
   "execution_count": 13,
   "metadata": {},
   "outputs": [
    {
     "name": "stderr",
     "output_type": "stream",
     "text": [
      "C:\\Anaconda\\lib\\site-packages\\ipykernel_launcher.py:5: DeprecationWarning: use options instead of chrome_options\n",
      "  \"\"\"\n"
     ]
    },
    {
     "name": "stdout",
     "output_type": "stream",
     "text": [
      "('38.67623', '-78.15644')\n"
     ]
    }
   ],
   "source": [
    "def getLocation():\n",
    "    options = Options()\n",
    "    options.add_argument(\"--use-fake-ui-for-media-stream\")\n",
    "    timeout = 20\n",
    "    driver = webdriver.Chrome(executable_path = './chromedriver.exe', chrome_options=options)\n",
    "    driver.get(\"https://mycurrentlocation.net/\")\n",
    "    wait = WebDriverWait(driver, timeout)\n",
    "    longitude = driver.find_elements_by_xpath('//*[@id=\"longitude\"]')\n",
    "    longitude = [x.text for x in longitude]\n",
    "    longitude = str(longitude[0])\n",
    "    latitude = driver.find_elements_by_xpath('//*[@id=\"latitude\"]')\n",
    "    latitude = [x.text for x in latitude]\n",
    "    latitude = str(latitude[0])\n",
    "    driver.quit()\n",
    "    return (latitude,longitude)\n",
    "print(getLocation())"
   ]
  },
  {
   "cell_type": "code",
   "execution_count": 31,
   "metadata": {},
   "outputs": [],
   "source": [
    "from opencage.geocoder import OpenCageGeocode\n",
    "from pprint import pprint"
   ]
  },
  {
   "cell_type": "code",
   "execution_count": 32,
   "metadata": {},
   "outputs": [],
   "source": [
    "key = 'd6dabbbe7f894750885d883a7fa5b2c6'\n",
    "geocoder = OpenCageGeocode(key)"
   ]
  },
  {
   "cell_type": "code",
   "execution_count": 33,
   "metadata": {},
   "outputs": [],
   "source": [
    "results = geocoder.reverse_geocode(38.67623, -78.15644)"
   ]
  },
  {
   "cell_type": "code",
   "execution_count": 40,
   "metadata": {},
   "outputs": [
    {
     "name": "stdout",
     "output_type": "stream",
     "text": [
      "Hunters Road, Five Forks, VA 22747, United States of America\n"
     ]
    }
   ],
   "source": [
    "print(results[0]['formatted'])"
   ]
  },
  {
   "cell_type": "code",
   "execution_count": null,
   "metadata": {},
   "outputs": [],
   "source": []
  },
  {
   "cell_type": "code",
   "execution_count": null,
   "metadata": {},
   "outputs": [],
   "source": []
  }
 ],
 "metadata": {
  "kernelspec": {
   "display_name": "Python 3",
   "language": "python",
   "name": "python3"
  },
  "language_info": {
   "codemirror_mode": {
    "name": "ipython",
    "version": 3
   },
   "file_extension": ".py",
   "mimetype": "text/x-python",
   "name": "python",
   "nbconvert_exporter": "python",
   "pygments_lexer": "ipython3",
   "version": "3.6.7"
  }
 },
 "nbformat": 4,
 "nbformat_minor": 2
}
